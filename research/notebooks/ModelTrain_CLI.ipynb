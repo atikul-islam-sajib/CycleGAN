{
  "nbformat": 4,
  "nbformat_minor": 0,
  "metadata": {
    "colab": {
      "provenance": [],
      "gpuType": "T4"
    },
    "kernelspec": {
      "name": "python3",
      "display_name": "Python 3"
    },
    "language_info": {
      "name": "python"
    },
    "accelerator": "GPU"
  },
  "cells": [
    {
      "cell_type": "markdown",
      "source": [
        "# Clone the repo"
      ],
      "metadata": {
        "id": "bvHfQNenj6TF"
      }
    },
    {
      "cell_type": "code",
      "source": [
        "!git clone https://github.com/atikul-islam-sajib/CycleGAN.git"
      ],
      "metadata": {
        "id": "7snEwUkqj7kV"
      },
      "execution_count": 10,
      "outputs": []
    },
    {
      "cell_type": "markdown",
      "source": [
        "# Change the directory"
      ],
      "metadata": {
        "id": "ww0hgBErkA2g"
      }
    },
    {
      "cell_type": "code",
      "source": [
        "%cd CycleGAN"
      ],
      "metadata": {
        "id": "I6OKGpKoj_l2"
      },
      "execution_count": 10,
      "outputs": []
    },
    {
      "cell_type": "markdown",
      "source": [
        "# Install the requiremenets.txt"
      ],
      "metadata": {
        "id": "vTsPJ9P_kUg3"
      }
    },
    {
      "cell_type": "code",
      "source": [
        "!pip install -r requirements.txt"
      ],
      "metadata": {
        "id": "aIypvexokXKd"
      },
      "execution_count": 2,
      "outputs": []
    },
    {
      "cell_type": "markdown",
      "source": [
        "# Check the CLI"
      ],
      "metadata": {
        "id": "tnfiMdIJkGNX"
      }
    },
    {
      "cell_type": "code",
      "source": [
        "!python /content/CycleGAN/src/cli.py --help"
      ],
      "metadata": {
        "id": "YIXB7J1SkFPJ"
      },
      "execution_count": null,
      "outputs": []
    },
    {
      "cell_type": "markdown",
      "source": [
        "# Do the training"
      ],
      "metadata": {
        "id": "hjFzpDUZkRt2"
      }
    },
    {
      "cell_type": "code",
      "source": [
        "!python /content/CycleGAN/src/cli.py --image_path /content/CycleGAN/data/raw/dataset.zip --image_size 256 --batch_size 1 --split_size 0.20\\\n",
        "                            --epochs 500 --lr 0.0002 --device cuda --is_display True --train"
      ],
      "metadata": {
        "id": "Yjzk49vRkKpW"
      },
      "execution_count": 10,
      "outputs": []
    },
    {
      "cell_type": "markdown",
      "source": [
        "## Do the testing of the model"
      ],
      "metadata": {
        "id": "A0j0m3JmusN6"
      }
    },
    {
      "cell_type": "code",
      "source": [
        "!python /content/CycleGAN/src/cli.py --device cuda --test_result # You can specify the specific model ....\n",
        "                                                                 # By default it will take the best model where loss is minimum"
      ],
      "metadata": {
        "id": "B7ypBcIKlNMJ"
      },
      "execution_count": 10,
      "outputs": []
    },
    {
      "cell_type": "code",
      "source": [
        "# To display the result\n",
        "from IPython.display import Image\n",
        "\n",
        "Image(\"/content/CycleGAN/outputs/test_result/test_result.png\")"
      ],
      "metadata": {
        "id": "NPAdP-vdvK1t"
      },
      "execution_count": 10,
      "outputs": []
    },
    {
      "cell_type": "markdown",
      "source": [
        "## Do the inferencing - single image"
      ],
      "metadata": {
        "id": "IzZqyArpvaKD"
      }
    },
    {
      "cell_type": "code",
      "source": [
        "!python /content/CycleGAN/src/inference.py --image /content/CycleGAN/data/raw/dataset/images/image_part_001.jpg --device cuda --single_image # You can specify the specific model ....\n",
        "                                                                                                                                             # By default it will take the best model where loss is minimum"
      ],
      "metadata": {
        "colab": {
          "base_uri": "https://localhost:8080/"
        },
        "id": "mM3EXAuHvUWg",
        "outputId": "6b43e1e1-7445-4026-9be6-5ecd9c22bc85"
      },
      "execution_count": 8,
      "outputs": [
        {
          "output_type": "stream",
          "name": "stdout",
          "text": [
            "Figure(1000x500)\n"
          ]
        }
      ]
    },
    {
      "cell_type": "code",
      "source": [
        "# To display the image\n",
        "Image(\"/content/CycleGAN/results/single_results/result_image.png\")"
      ],
      "metadata": {
        "id": "pE5_gCRYvpxb"
      },
      "execution_count": 10,
      "outputs": []
    },
    {
      "cell_type": "markdown",
      "source": [
        "## Do the inferencing with batch image"
      ],
      "metadata": {
        "id": "7JANkYvfvy9h"
      }
    },
    {
      "cell_type": "code",
      "source": [
        "!python /content/CycleGAN/src/inference.py --image_path /content/CycleGAN/results/batch_results/dataset --device cuda --batch_image # You can specify the specific model ....\n",
        "                                                                                                                                    # By default it will take the best model where loss is minimum"
      ],
      "metadata": {
        "id": "DY0muzGKvyX8"
      },
      "execution_count": 10,
      "outputs": []
    },
    {
      "cell_type": "code",
      "source": [
        "# To display the result\n",
        "Image(\"/content/CycleGAN/results/batch_results/batch_result_0.png\")\n",
        "\n",
        "# It will create the image\n",
        "'''\n",
        "/content/CycleGAN/results/batch_results/batch_result_0.png\n",
        "/content/CycleGAN/results/batch_results/batch_result_1.png\n",
        "/content/CycleGAN/results/batch_results/batch_result_2.png\n",
        "'''"
      ],
      "metadata": {
        "id": "AC6NhTTUvwz4"
      },
      "execution_count": 10,
      "outputs": []
    }
  ]
}