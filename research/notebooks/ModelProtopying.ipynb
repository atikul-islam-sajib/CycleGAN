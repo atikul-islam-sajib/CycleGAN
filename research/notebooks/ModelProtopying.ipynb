{
 "cells": [
  {
   "cell_type": "code",
   "execution_count": 2,
   "metadata": {},
   "outputs": [],
   "source": [
    "import os\n",
    "import cv2\n",
    "import torch\n",
    "import torch.nn as nn\n",
    "from torch.utils.data import DataLoader, Dataset"
   ]
  },
  {
   "cell_type": "code",
   "execution_count": null,
   "metadata": {},
   "outputs": [],
   "source": [
    "class loader:\n",
    "    def __init__(self, image_size = 256, batch_size = 1, split_size = 0.25):\n",
    "        self.image_size = image_size\n",
    "        self.batch_size = batch_size\n",
    "        self.split_size = split_size\n",
    "        \n",
    "    def image_transforms(self):\n",
    "        pass\n",
    "    def image_splits(self):\n",
    "        pass\n",
    "    \n",
    "    def unzip_folder(self):\n",
    "        pass\n",
    "    \n",
    "    def create_dataloader(self):\n",
    "        pass\n",
    "    \n",
    "    @staticmethod\n",
    "    def plot_images():\n",
    "        pass"
   ]
  }
 ],
 "metadata": {
  "kernelspec": {
   "display_name": "GPSG",
   "language": "python",
   "name": "python3"
  },
  "language_info": {
   "codemirror_mode": {
    "name": "ipython",
    "version": 3
   },
   "file_extension": ".py",
   "mimetype": "text/x-python",
   "name": "python",
   "nbconvert_exporter": "python",
   "pygments_lexer": "ipython3",
   "version": "3.9.18"
  }
 },
 "nbformat": 4,
 "nbformat_minor": 2
}
