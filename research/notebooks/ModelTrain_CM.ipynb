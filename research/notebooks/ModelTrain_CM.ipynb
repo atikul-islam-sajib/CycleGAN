{
  "nbformat": 4,
  "nbformat_minor": 0,
  "metadata": {
    "colab": {
      "provenance": [],
      "gpuType": "T4"
    },
    "kernelspec": {
      "name": "python3",
      "display_name": "Python 3"
    },
    "language_info": {
      "name": "python"
    },
    "accelerator": "GPU"
  },
  "cells": [
    {
      "cell_type": "markdown",
      "source": [
        "# Clone the repo"
      ],
      "metadata": {
        "id": "bvHfQNenj6TF"
      }
    },
    {
      "cell_type": "code",
      "source": [
        "!git clone https://github.com/atikul-islam-sajib/CycleGAN.git"
      ],
      "metadata": {
        "id": "7snEwUkqj7kV"
      },
      "execution_count": null,
      "outputs": []
    },
    {
      "cell_type": "markdown",
      "source": [
        "# Change the directory"
      ],
      "metadata": {
        "id": "ww0hgBErkA2g"
      }
    },
    {
      "cell_type": "code",
      "source": [
        "%cd CycleGAN"
      ],
      "metadata": {
        "id": "I6OKGpKoj_l2"
      },
      "execution_count": null,
      "outputs": []
    },
    {
      "cell_type": "markdown",
      "source": [
        "# Install the requiremenets.txt"
      ],
      "metadata": {
        "id": "vTsPJ9P_kUg3"
      }
    },
    {
      "cell_type": "code",
      "source": [
        "!pip install -r requirements.txt"
      ],
      "metadata": {
        "id": "aIypvexokXKd"
      },
      "execution_count": 2,
      "outputs": []
    },
    {
      "cell_type": "markdown",
      "source": [
        "# Import the Custom Modules"
      ],
      "metadata": {
        "id": "nulcgLhSyUs1"
      }
    },
    {
      "cell_type": "code",
      "source": [
        "from src.dataloader import Loader\n",
        "from src.trainer import Trainer\n",
        "from src.test import TestModel\n",
        "from src.inference import Inference"
      ],
      "metadata": {
        "id": "5uOU91tlyGFm"
      },
      "execution_count": 4,
      "outputs": []
    },
    {
      "cell_type": "markdown",
      "source": [
        "## To the dataloader"
      ],
      "metadata": {
        "id": "ppXJTIrRyYm9"
      }
    },
    {
      "cell_type": "code",
      "source": [
        "loader = Loader(\n",
        "    image_path = \"/content/CycleGAN/data/raw/dataset.zip\",\n",
        "    image_size = 256,\n",
        "    batch_size = 1,\n",
        "    split_size = 0.20\n",
        ")\n",
        "\n",
        "loader.unzip_folder()\n",
        "\n",
        "loader.create_dataloader()"
      ],
      "metadata": {
        "id": "kDRDCnWKyXQZ"
      },
      "execution_count": null,
      "outputs": []
    },
    {
      "cell_type": "code",
      "source": [
        "# Check the data\n",
        "Loader.plot_images()"
      ],
      "metadata": {
        "id": "g0cilyhGy0Ex"
      },
      "execution_count": null,
      "outputs": []
    },
    {
      "cell_type": "code",
      "source": [
        "# To check the data details\n",
        "Loader.dataset_details()"
      ],
      "metadata": {
        "id": "Q5-t2rpSzn9-"
      },
      "execution_count": null,
      "outputs": []
    },
    {
      "cell_type": "markdown",
      "source": [
        "# Do the training"
      ],
      "metadata": {
        "id": "hjFzpDUZkRt2"
      }
    },
    {
      "cell_type": "code",
      "source": [
        "trainer = Trainer(\n",
        "    epochs=500,                # Number of epochs to train the model\n",
        "    lr=0.0002,                 # Learning rate for optimizer\n",
        "    device='cuda',             # Computation device ('cuda', 'mps', 'cpu')\n",
        "    adam=True,                 # Use Adam optimizer; set to False to use SGD if implemented\n",
        "    SGD=False,                 # Use Stochastic Gradient Descent optimizer; typically False if Adam is True\n",
        "    is_display=True            # Display training progress and statistics\n",
        ")\n",
        "\n",
        "# Start training\n",
        "trainer.train()"
      ],
      "metadata": {
        "id": "Yjzk49vRkKpW"
      },
      "execution_count": null,
      "outputs": []
    },
    {
      "cell_type": "code",
      "source": [
        "print(trainer.plot_history())    # It will plot the netD and netG losses for each epochs"
      ],
      "metadata": {
        "id": "WcVKw0-EzMbU"
      },
      "execution_count": null,
      "outputs": []
    },
    {
      "cell_type": "markdown",
      "source": [
        "## Do the testing of the model"
      ],
      "metadata": {
        "id": "A0j0m3JmusN6"
      }
    },
    {
      "cell_type": "code",
      "source": [
        "test = TestModel(in_channels=3, device=\"cuda\", create_gif=False) # use mps, cpu\n",
        "test.test()"
      ],
      "metadata": {
        "id": "B7ypBcIKlNMJ"
      },
      "execution_count": null,
      "outputs": []
    },
    {
      "cell_type": "markdown",
      "source": [
        "## Do the inferencing - single image"
      ],
      "metadata": {
        "id": "IzZqyArpvaKD"
      }
    },
    {
      "cell_type": "code",
      "source": [
        "test = TestModel(in_channels=3, device=\"cuda\", create_gif=False) # use mps, cpu\n",
        "test.test()"
      ],
      "metadata": {
        "id": "mM3EXAuHvUWg"
      },
      "execution_count": null,
      "outputs": []
    },
    {
      "cell_type": "markdown",
      "source": [
        "## Do the inferencing with batch image"
      ],
      "metadata": {
        "id": "7JANkYvfvy9h"
      }
    },
    {
      "cell_type": "code",
      "source": [
        "infer = Inference(\n",
        "    image_path=\"path/to/dataset\",\n",
        "    XtoY=\"path/to/model.pth\",\n",
        "    YtoX=\"path/to/model.pth\",\n",
        "    device=\"cuda\",  # Use \"mps\" or \"cpu\"\n",
        "    in_channels=3,\n",
        "    image_size=256, # Must be same as the model input size\n",
        "        )\n",
        "\n",
        "infer.batch_image()"
      ],
      "metadata": {
        "id": "DY0muzGKvyX8"
      },
      "execution_count": 10,
      "outputs": []
    },
    {
      "cell_type": "code",
      "source": [
        "from IPython.display import Image\n",
        "\n",
        "# To display the result\n",
        "Image(\"/content/CycleGAN/results/batch_results/batch_result_0.png\")\n",
        "\n",
        "# It will create the image like below......\n",
        "'''\n",
        "/content/CycleGAN/results/batch_results/batch_result_0.png\n",
        "/content/CycleGAN/results/batch_results/batch_result_1.png\n",
        "/content/CycleGAN/results/batch_results/batch_result_2.png\n",
        "'''"
      ],
      "metadata": {
        "id": "AC6NhTTUvwz4"
      },
      "execution_count": 10,
      "outputs": []
    }
  ]
}