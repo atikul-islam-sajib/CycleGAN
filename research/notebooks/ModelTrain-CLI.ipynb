# Clone the repo

!git clone https://github.com/atikul-islam-sajib/CycleGAN.git

# Change the directory

%cd CycleGAN

# Install the requiremenets.txt

!pip install -r requirements.txt

# Check the CLI 

!python /content/CycleGAN/src/cli.py --help

# Do the training

!python /content/CycleGAN/src/cli.py --image_path /content/CycleGAN/data/raw/dataset.zip --image_size 256 --batch_size 1 --split_size 0.20\
                            --epochs 500 --lr 0.0002 --device cuda --is_display True --train

## Do the testing of the model

!python /content/CycleGAN/src/cli.py --device cuda --test_result # You can specify the specific model .... 
                                                                 # By default it will take the best model where loss is minimum

# To display the result 
from IPython.display import Image

Image("/content/CycleGAN/outputs/test_result/test_result.png")

## Do the inferencing - single image

!python /content/CycleGAN/src/inference.py --image /content/CycleGAN/data/raw/dataset/images/image_part_001.jpg --device cuda --single_image # You can specify the specific model .... 
                                                                                                                                             # By default it will take the best model where loss is minimum

# To display the image
Image("/content/CycleGAN/results/single_results/result_image.png")

## Do the inferencing with batch image

!python /content/CycleGAN/src/inference.py --image_path /content/CycleGAN/results/batch_results/dataset --device cuda --batch_image # You can specify the specific model .... 
                                                                                                                                    # By default it will take the best model where loss is minimum

# To display the result 
Image("/content/CycleGAN/results/batch_results/batch_result_0.png")

# It will create the image 
'''
/content/CycleGAN/results/batch_results/batch_result_0.png
/content/CycleGAN/results/batch_results/batch_result_1.png
/content/CycleGAN/results/batch_results/batch_result_2.png
'''
